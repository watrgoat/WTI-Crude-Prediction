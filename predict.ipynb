{
 "cells": [
  {
   "cell_type": "code",
   "execution_count": 96,
   "metadata": {},
   "outputs": [],
   "source": [
    "import os\n",
    "import pandas as pd\n",
    "import numpy as np\n",
    "import xgboost as xg\n",
    "from sklearn.model_selection import train_test_split\n",
    "from sklearn.metrics import mean_squared_error as MSE\n",
    "from sklearn.metrics import accuracy_score\n",
    "import yfinance as yf\n",
    "from matplotlib import pyplot"
   ]
  },
  {
   "cell_type": "code",
   "execution_count": 97,
   "metadata": {},
   "outputs": [],
   "source": [
    "ticker = 'CL=F' # stock ticker symbol: WTI Crude Oil\n",
    "period = 'max' # time range to look at: all time\n",
    "interval = '1d' # time interval for data collected: daily\n",
    "data_s = 'Open' # Low, High, Open, Close, Volume"
   ]
  },
  {
   "cell_type": "code",
   "execution_count": 98,
   "metadata": {},
   "outputs": [],
   "source": [
    "def get_hist(ticker, time, interval):\n",
    "    tick = yf.Ticker(ticker)\n",
    "    return tick.history(period=time, interval=interval)"
   ]
  },
  {
   "cell_type": "code",
   "execution_count": 99,
   "metadata": {},
   "outputs": [],
   "source": [
    "# get historic data\n",
    "df = get_hist(ticker, period, interval)"
   ]
  },
  {
   "cell_type": "code",
   "execution_count": 100,
   "metadata": {},
   "outputs": [],
   "source": [
    "# reversing data so top is most recent\n",
    "df = df.loc[::-1]"
   ]
  },
  {
   "cell_type": "code",
   "execution_count": 101,
   "metadata": {},
   "outputs": [],
   "source": [
    "date = df.reset_index()['Date']\n",
    "\n",
    "# add dates as dataframe columns\n",
    "df['year'] = date.dt.year.values\n",
    "df['month'] = date.dt.month.values\n",
    "df['day'] = date.dt.day.values\n",
    "\n",
    "# gets rid of datetime indexing\n",
    "df = df.reset_index()\n",
    "df = df.drop('Date', axis=1)"
   ]
  },
  {
   "cell_type": "code",
   "execution_count": 102,
   "metadata": {},
   "outputs": [
    {
     "data": {
      "text/html": [
       "<div>\n",
       "<style scoped>\n",
       "    .dataframe tbody tr th:only-of-type {\n",
       "        vertical-align: middle;\n",
       "    }\n",
       "\n",
       "    .dataframe tbody tr th {\n",
       "        vertical-align: top;\n",
       "    }\n",
       "\n",
       "    .dataframe thead th {\n",
       "        text-align: right;\n",
       "    }\n",
       "</style>\n",
       "<table border=\"1\" class=\"dataframe\">\n",
       "  <thead>\n",
       "    <tr style=\"text-align: right;\">\n",
       "      <th></th>\n",
       "      <th>Open</th>\n",
       "      <th>High</th>\n",
       "      <th>Low</th>\n",
       "      <th>Close</th>\n",
       "      <th>Volume</th>\n",
       "      <th>Dividends</th>\n",
       "      <th>Stock Splits</th>\n",
       "      <th>year</th>\n",
       "      <th>month</th>\n",
       "      <th>day</th>\n",
       "    </tr>\n",
       "  </thead>\n",
       "  <tbody>\n",
       "    <tr>\n",
       "      <th>0</th>\n",
       "      <td>12065.099609</td>\n",
       "      <td>12178.553711</td>\n",
       "      <td>12024.142578</td>\n",
       "      <td>12158.729492</td>\n",
       "      <td>2207466000</td>\n",
       "      <td>0.0</td>\n",
       "      <td>0.0</td>\n",
       "      <td>2023</td>\n",
       "      <td>2</td>\n",
       "      <td>2</td>\n",
       "    </tr>\n",
       "    <tr>\n",
       "      <th>1</th>\n",
       "      <td>11573.139648</td>\n",
       "      <td>11904.019531</td>\n",
       "      <td>11500.330078</td>\n",
       "      <td>11816.320312</td>\n",
       "      <td>6336040000</td>\n",
       "      <td>0.0</td>\n",
       "      <td>0.0</td>\n",
       "      <td>2023</td>\n",
       "      <td>2</td>\n",
       "      <td>1</td>\n",
       "    </tr>\n",
       "    <tr>\n",
       "      <th>2</th>\n",
       "      <td>11398.580078</td>\n",
       "      <td>11586.009766</td>\n",
       "      <td>11398.370117</td>\n",
       "      <td>11584.549805</td>\n",
       "      <td>5695150000</td>\n",
       "      <td>0.0</td>\n",
       "      <td>0.0</td>\n",
       "      <td>2023</td>\n",
       "      <td>1</td>\n",
       "      <td>31</td>\n",
       "    </tr>\n",
       "    <tr>\n",
       "      <th>3</th>\n",
       "      <td>11512.339844</td>\n",
       "      <td>11553.309570</td>\n",
       "      <td>11388.540039</td>\n",
       "      <td>11393.809570</td>\n",
       "      <td>5122320000</td>\n",
       "      <td>0.0</td>\n",
       "      <td>0.0</td>\n",
       "      <td>2023</td>\n",
       "      <td>1</td>\n",
       "      <td>30</td>\n",
       "    </tr>\n",
       "    <tr>\n",
       "      <th>4</th>\n",
       "      <td>11470.469727</td>\n",
       "      <td>11691.889648</td>\n",
       "      <td>11470.269531</td>\n",
       "      <td>11621.709961</td>\n",
       "      <td>6243800000</td>\n",
       "      <td>0.0</td>\n",
       "      <td>0.0</td>\n",
       "      <td>2023</td>\n",
       "      <td>1</td>\n",
       "      <td>27</td>\n",
       "    </tr>\n",
       "  </tbody>\n",
       "</table>\n",
       "</div>"
      ],
      "text/plain": [
       "           Open          High           Low         Close      Volume  \\\n",
       "0  12065.099609  12178.553711  12024.142578  12158.729492  2207466000   \n",
       "1  11573.139648  11904.019531  11500.330078  11816.320312  6336040000   \n",
       "2  11398.580078  11586.009766  11398.370117  11584.549805  5695150000   \n",
       "3  11512.339844  11553.309570  11388.540039  11393.809570  5122320000   \n",
       "4  11470.469727  11691.889648  11470.269531  11621.709961  6243800000   \n",
       "\n",
       "   Dividends  Stock Splits  year  month  day  \n",
       "0        0.0           0.0  2023      2    2  \n",
       "1        0.0           0.0  2023      2    1  \n",
       "2        0.0           0.0  2023      1   31  \n",
       "3        0.0           0.0  2023      1   30  \n",
       "4        0.0           0.0  2023      1   27  "
      ]
     },
     "execution_count": 102,
     "metadata": {},
     "output_type": "execute_result"
    }
   ],
   "source": [
    "df.head()"
   ]
  },
  {
   "cell_type": "code",
   "execution_count": 103,
   "metadata": {},
   "outputs": [],
   "source": [
    "test = df.drop(df.tail(5300).index, inplace = False)\n",
    "train = df\n",
    "train_y = train[data_s]\n",
    "train_X = train.drop(columns=data_s)\n",
    "test_y = test[data_s]\n",
    "test_X = test.drop(columns=data_s)"
   ]
  },
  {
   "cell_type": "code",
   "execution_count": 104,
   "metadata": {},
   "outputs": [],
   "source": [
    "# dates = {\n",
    "#     'year':[],\n",
    "#     'month':[],\n",
    "#     'day':[]\n",
    "# }\n",
    "# for i in range(5):\n",
    "#     dates['year'] += [2023]\n",
    "#     dates['month'] += [1]\n",
    "#     dates['day'] += [25+i]\n",
    "# future = pd.DataFrame.from_dict(dates)\n",
    "# future"
   ]
  },
  {
   "cell_type": "code",
   "execution_count": 105,
   "metadata": {},
   "outputs": [],
   "source": [
    "evalset = [(train_X, train_y), (test_X, test_y)]"
   ]
  },
  {
   "cell_type": "code",
   "execution_count": 106,
   "metadata": {},
   "outputs": [],
   "source": [
    "# Instantiation\n",
    "model = xg.XGBRegressor(objective='reg:squarederror', n_estimators=100, seed=123)"
   ]
  },
  {
   "cell_type": "code",
   "execution_count": 107,
   "metadata": {},
   "outputs": [
    {
     "name": "stdout",
     "output_type": "stream",
     "text": [
      "[0]\tvalidation_0-logloss:-103337.56751\tvalidation_1-logloss:-167001.13985\n",
      "[1]\tvalidation_0-logloss:-104583.85506\tvalidation_1-logloss:-169009.64569\n",
      "[2]\tvalidation_0-logloss:-105179.11110\tvalidation_1-logloss:-169969.11496\n",
      "[3]\tvalidation_0-logloss:-105521.46843\tvalidation_1-logloss:-170520.92178\n",
      "[4]\tvalidation_0-logloss:-105734.88438\tvalidation_1-logloss:-170864.92796\n",
      "[5]\tvalidation_0-logloss:-105873.67518\tvalidation_1-logloss:-171088.66567\n",
      "[6]\tvalidation_0-logloss:-105966.27334\tvalidation_1-logloss:-171237.93644\n",
      "[7]\tvalidation_0-logloss:-106029.11270\tvalidation_1-logloss:-171339.25635\n",
      "[8]\tvalidation_0-logloss:-106072.16713\tvalidation_1-logloss:-171408.67351\n"
     ]
    },
    {
     "name": "stderr",
     "output_type": "stream",
     "text": [
      "C:\\Users\\oliver\\AppData\\Local\\Packages\\PythonSoftwareFoundation.Python.3.11_qbz5n2kfra8p0\\LocalCache\\local-packages\\Python311\\site-packages\\xgboost\\sklearn.py:835: UserWarning: `eval_metric` in `fit` method is deprecated for better compatibility with scikit-learn, use `eval_metric` in constructor or`set_params` instead.\n",
      "  warnings.warn(\n"
     ]
    },
    {
     "name": "stdout",
     "output_type": "stream",
     "text": [
      "[9]\tvalidation_0-logloss:-106101.84349\tvalidation_1-logloss:-171456.51359\n",
      "[10]\tvalidation_0-logloss:-106122.42320\tvalidation_1-logloss:-171489.69440\n",
      "[11]\tvalidation_0-logloss:-106136.76985\tvalidation_1-logloss:-171512.83185\n",
      "[12]\tvalidation_0-logloss:-106146.77687\tvalidation_1-logloss:-171528.96319\n",
      "[13]\tvalidation_0-logloss:-106153.78676\tvalidation_1-logloss:-171540.26719\n",
      "[14]\tvalidation_0-logloss:-106158.70219\tvalidation_1-logloss:-171548.19114\n",
      "[15]\tvalidation_0-logloss:-106162.15065\tvalidation_1-logloss:-171553.75854\n",
      "[16]\tvalidation_0-logloss:-106164.56604\tvalidation_1-logloss:-171557.64951\n",
      "[17]\tvalidation_0-logloss:-106166.25395\tvalidation_1-logloss:-171560.37793\n",
      "[18]\tvalidation_0-logloss:-106167.45349\tvalidation_1-logloss:-171562.28062\n",
      "[19]\tvalidation_0-logloss:-106168.29048\tvalidation_1-logloss:-171563.64131\n",
      "[20]\tvalidation_0-logloss:-106168.88310\tvalidation_1-logloss:-171564.51118\n",
      "[21]\tvalidation_0-logloss:-106169.29607\tvalidation_1-logloss:-171565.20948\n",
      "[22]\tvalidation_0-logloss:-106169.59385\tvalidation_1-logloss:-171565.55902\n",
      "[23]\tvalidation_0-logloss:-106169.79606\tvalidation_1-logloss:-171565.85547\n",
      "[24]\tvalidation_0-logloss:-106169.94104\tvalidation_1-logloss:-171566.03808\n",
      "[25]\tvalidation_0-logloss:-106170.03844\tvalidation_1-logloss:-171566.20943\n",
      "[26]\tvalidation_0-logloss:-106170.11055\tvalidation_1-logloss:-171566.30169\n",
      "[27]\tvalidation_0-logloss:-106170.15954\tvalidation_1-logloss:-171566.40506\n",
      "[28]\tvalidation_0-logloss:-106170.19137\tvalidation_1-logloss:-171566.43094\n",
      "[29]\tvalidation_0-logloss:-106170.21725\tvalidation_1-logloss:-171566.55581\n",
      "[30]\tvalidation_0-logloss:-106170.23746\tvalidation_1-logloss:-171566.57645\n",
      "[31]\tvalidation_0-logloss:-106170.24828\tvalidation_1-logloss:-171566.63140\n",
      "[32]\tvalidation_0-logloss:-106170.25772\tvalidation_1-logloss:-171566.63991\n",
      "[33]\tvalidation_0-logloss:-106170.26219\tvalidation_1-logloss:-171566.64906\n",
      "[34]\tvalidation_0-logloss:-106170.26899\tvalidation_1-logloss:-171566.66851\n",
      "[35]\tvalidation_0-logloss:-106170.27475\tvalidation_1-logloss:-171566.73011\n",
      "[36]\tvalidation_0-logloss:-106170.27744\tvalidation_1-logloss:-171566.73000\n",
      "[37]\tvalidation_0-logloss:-106170.28088\tvalidation_1-logloss:-171566.72750\n",
      "[38]\tvalidation_0-logloss:-106170.28479\tvalidation_1-logloss:-171566.73383\n",
      "[39]\tvalidation_0-logloss:-106170.28290\tvalidation_1-logloss:-171566.75204\n",
      "[40]\tvalidation_0-logloss:-106170.28021\tvalidation_1-logloss:-171566.75958\n",
      "[41]\tvalidation_0-logloss:-106170.28317\tvalidation_1-logloss:-171566.76071\n",
      "[42]\tvalidation_0-logloss:-106170.28382\tvalidation_1-logloss:-171566.76675\n",
      "[43]\tvalidation_0-logloss:-106170.28515\tvalidation_1-logloss:-171566.77440\n",
      "[44]\tvalidation_0-logloss:-106170.28984\tvalidation_1-logloss:-171566.77507\n",
      "[45]\tvalidation_0-logloss:-106170.28906\tvalidation_1-logloss:-171566.77378\n",
      "[46]\tvalidation_0-logloss:-106170.28860\tvalidation_1-logloss:-171566.77499\n",
      "[47]\tvalidation_0-logloss:-106170.29004\tvalidation_1-logloss:-171566.77211\n",
      "[48]\tvalidation_0-logloss:-106170.28947\tvalidation_1-logloss:-171566.80119\n",
      "[49]\tvalidation_0-logloss:-106170.28983\tvalidation_1-logloss:-171566.80170\n",
      "[50]\tvalidation_0-logloss:-106170.29004\tvalidation_1-logloss:-171566.79886\n",
      "[51]\tvalidation_0-logloss:-106170.28958\tvalidation_1-logloss:-171566.79531\n",
      "[52]\tvalidation_0-logloss:-106170.28932\tvalidation_1-logloss:-171566.79486\n",
      "[53]\tvalidation_0-logloss:-106170.28909\tvalidation_1-logloss:-171566.81609\n",
      "[54]\tvalidation_0-logloss:-106170.28883\tvalidation_1-logloss:-171566.82021\n",
      "[55]\tvalidation_0-logloss:-106170.29042\tvalidation_1-logloss:-171566.82273\n",
      "[56]\tvalidation_0-logloss:-106170.28977\tvalidation_1-logloss:-171566.81983\n",
      "[57]\tvalidation_0-logloss:-106170.29065\tvalidation_1-logloss:-171566.82809\n",
      "[58]\tvalidation_0-logloss:-106170.29199\tvalidation_1-logloss:-171566.84633\n",
      "[59]\tvalidation_0-logloss:-106170.29239\tvalidation_1-logloss:-171566.84738\n",
      "[60]\tvalidation_0-logloss:-106170.29325\tvalidation_1-logloss:-171566.84518\n",
      "[61]\tvalidation_0-logloss:-106170.29384\tvalidation_1-logloss:-171566.84997\n",
      "[62]\tvalidation_0-logloss:-106170.29277\tvalidation_1-logloss:-171566.85903\n",
      "[63]\tvalidation_0-logloss:-106170.29354\tvalidation_1-logloss:-171566.85851\n",
      "[64]\tvalidation_0-logloss:-106170.29265\tvalidation_1-logloss:-171566.85743\n",
      "[65]\tvalidation_0-logloss:-106170.29319\tvalidation_1-logloss:-171566.86113\n",
      "[66]\tvalidation_0-logloss:-106170.29343\tvalidation_1-logloss:-171566.85695\n",
      "[67]\tvalidation_0-logloss:-106170.29194\tvalidation_1-logloss:-171566.84916\n",
      "[68]\tvalidation_0-logloss:-106170.29381\tvalidation_1-logloss:-171566.85773\n",
      "[69]\tvalidation_0-logloss:-106170.29499\tvalidation_1-logloss:-171566.85459\n",
      "[70]\tvalidation_0-logloss:-106170.29539\tvalidation_1-logloss:-171566.85356\n",
      "[71]\tvalidation_0-logloss:-106170.29541\tvalidation_1-logloss:-171566.85196\n",
      "[72]\tvalidation_0-logloss:-106170.29494\tvalidation_1-logloss:-171566.84979\n",
      "[73]\tvalidation_0-logloss:-106170.29585\tvalidation_1-logloss:-171566.84891\n",
      "[74]\tvalidation_0-logloss:-106170.29690\tvalidation_1-logloss:-171566.85381\n",
      "[75]\tvalidation_0-logloss:-106170.29890\tvalidation_1-logloss:-171566.85501\n",
      "[76]\tvalidation_0-logloss:-106170.30161\tvalidation_1-logloss:-171566.86515\n",
      "[77]\tvalidation_0-logloss:-106170.30115\tvalidation_1-logloss:-171566.86846\n",
      "[78]\tvalidation_0-logloss:-106170.29819\tvalidation_1-logloss:-171566.86632\n",
      "[79]\tvalidation_0-logloss:-106170.30142\tvalidation_1-logloss:-171566.86943\n",
      "[80]\tvalidation_0-logloss:-106170.30037\tvalidation_1-logloss:-171566.86906\n",
      "[81]\tvalidation_0-logloss:-106170.29988\tvalidation_1-logloss:-171566.86977\n",
      "[82]\tvalidation_0-logloss:-106170.29833\tvalidation_1-logloss:-171566.86942\n",
      "[83]\tvalidation_0-logloss:-106170.29949\tvalidation_1-logloss:-171566.87339\n",
      "[84]\tvalidation_0-logloss:-106170.29977\tvalidation_1-logloss:-171566.87179\n",
      "[85]\tvalidation_0-logloss:-106170.30071\tvalidation_1-logloss:-171566.87052\n",
      "[86]\tvalidation_0-logloss:-106170.30118\tvalidation_1-logloss:-171566.87194\n",
      "[87]\tvalidation_0-logloss:-106170.30360\tvalidation_1-logloss:-171566.89085\n",
      "[88]\tvalidation_0-logloss:-106170.30145\tvalidation_1-logloss:-171566.88789\n",
      "[89]\tvalidation_0-logloss:-106170.30268\tvalidation_1-logloss:-171566.89109\n",
      "[90]\tvalidation_0-logloss:-106170.30297\tvalidation_1-logloss:-171566.89112\n",
      "[91]\tvalidation_0-logloss:-106170.30165\tvalidation_1-logloss:-171566.88294\n",
      "[92]\tvalidation_0-logloss:-106170.30268\tvalidation_1-logloss:-171566.88811\n",
      "[93]\tvalidation_0-logloss:-106170.30244\tvalidation_1-logloss:-171566.88913\n",
      "[94]\tvalidation_0-logloss:-106170.30198\tvalidation_1-logloss:-171566.88865\n",
      "[95]\tvalidation_0-logloss:-106170.30301\tvalidation_1-logloss:-171566.88845\n",
      "[96]\tvalidation_0-logloss:-106170.30309\tvalidation_1-logloss:-171566.88758\n",
      "[97]\tvalidation_0-logloss:-106170.30323\tvalidation_1-logloss:-171566.88902\n",
      "[98]\tvalidation_0-logloss:-106170.30276\tvalidation_1-logloss:-171566.87835\n",
      "[99]\tvalidation_0-logloss:-106170.30342\tvalidation_1-logloss:-171566.88401\n"
     ]
    },
    {
     "data": {
      "text/html": [
       "<style>#sk-container-id-6 {color: black;background-color: white;}#sk-container-id-6 pre{padding: 0;}#sk-container-id-6 div.sk-toggleable {background-color: white;}#sk-container-id-6 label.sk-toggleable__label {cursor: pointer;display: block;width: 100%;margin-bottom: 0;padding: 0.3em;box-sizing: border-box;text-align: center;}#sk-container-id-6 label.sk-toggleable__label-arrow:before {content: \"▸\";float: left;margin-right: 0.25em;color: #696969;}#sk-container-id-6 label.sk-toggleable__label-arrow:hover:before {color: black;}#sk-container-id-6 div.sk-estimator:hover label.sk-toggleable__label-arrow:before {color: black;}#sk-container-id-6 div.sk-toggleable__content {max-height: 0;max-width: 0;overflow: hidden;text-align: left;background-color: #f0f8ff;}#sk-container-id-6 div.sk-toggleable__content pre {margin: 0.2em;color: black;border-radius: 0.25em;background-color: #f0f8ff;}#sk-container-id-6 input.sk-toggleable__control:checked~div.sk-toggleable__content {max-height: 200px;max-width: 100%;overflow: auto;}#sk-container-id-6 input.sk-toggleable__control:checked~label.sk-toggleable__label-arrow:before {content: \"▾\";}#sk-container-id-6 div.sk-estimator input.sk-toggleable__control:checked~label.sk-toggleable__label {background-color: #d4ebff;}#sk-container-id-6 div.sk-label input.sk-toggleable__control:checked~label.sk-toggleable__label {background-color: #d4ebff;}#sk-container-id-6 input.sk-hidden--visually {border: 0;clip: rect(1px 1px 1px 1px);clip: rect(1px, 1px, 1px, 1px);height: 1px;margin: -1px;overflow: hidden;padding: 0;position: absolute;width: 1px;}#sk-container-id-6 div.sk-estimator {font-family: monospace;background-color: #f0f8ff;border: 1px dotted black;border-radius: 0.25em;box-sizing: border-box;margin-bottom: 0.5em;}#sk-container-id-6 div.sk-estimator:hover {background-color: #d4ebff;}#sk-container-id-6 div.sk-parallel-item::after {content: \"\";width: 100%;border-bottom: 1px solid gray;flex-grow: 1;}#sk-container-id-6 div.sk-label:hover label.sk-toggleable__label {background-color: #d4ebff;}#sk-container-id-6 div.sk-serial::before {content: \"\";position: absolute;border-left: 1px solid gray;box-sizing: border-box;top: 0;bottom: 0;left: 50%;z-index: 0;}#sk-container-id-6 div.sk-serial {display: flex;flex-direction: column;align-items: center;background-color: white;padding-right: 0.2em;padding-left: 0.2em;position: relative;}#sk-container-id-6 div.sk-item {position: relative;z-index: 1;}#sk-container-id-6 div.sk-parallel {display: flex;align-items: stretch;justify-content: center;background-color: white;position: relative;}#sk-container-id-6 div.sk-item::before, #sk-container-id-6 div.sk-parallel-item::before {content: \"\";position: absolute;border-left: 1px solid gray;box-sizing: border-box;top: 0;bottom: 0;left: 50%;z-index: -1;}#sk-container-id-6 div.sk-parallel-item {display: flex;flex-direction: column;z-index: 1;position: relative;background-color: white;}#sk-container-id-6 div.sk-parallel-item:first-child::after {align-self: flex-end;width: 50%;}#sk-container-id-6 div.sk-parallel-item:last-child::after {align-self: flex-start;width: 50%;}#sk-container-id-6 div.sk-parallel-item:only-child::after {width: 0;}#sk-container-id-6 div.sk-dashed-wrapped {border: 1px dashed gray;margin: 0 0.4em 0.5em 0.4em;box-sizing: border-box;padding-bottom: 0.4em;background-color: white;}#sk-container-id-6 div.sk-label label {font-family: monospace;font-weight: bold;display: inline-block;line-height: 1.2em;}#sk-container-id-6 div.sk-label-container {text-align: center;}#sk-container-id-6 div.sk-container {/* jupyter's `normalize.less` sets `[hidden] { display: none; }` but bootstrap.min.css set `[hidden] { display: none !important; }` so we also need the `!important` here to be able to override the default hidden behavior on the sphinx rendered scikit-learn.org. See: https://github.com/scikit-learn/scikit-learn/issues/21755 */display: inline-block !important;position: relative;}#sk-container-id-6 div.sk-text-repr-fallback {display: none;}</style><div id=\"sk-container-id-6\" class=\"sk-top-container\"><div class=\"sk-text-repr-fallback\"><pre>XGBRegressor(base_score=None, booster=None, callbacks=None,\n",
       "             colsample_bylevel=None, colsample_bynode=None,\n",
       "             colsample_bytree=None, early_stopping_rounds=None,\n",
       "             enable_categorical=False, eval_metric=None, feature_types=None,\n",
       "             gamma=None, gpu_id=None, grow_policy=None, importance_type=None,\n",
       "             interaction_constraints=None, learning_rate=None, max_bin=None,\n",
       "             max_cat_threshold=None, max_cat_to_onehot=None,\n",
       "             max_delta_step=None, max_depth=None, max_leaves=None,\n",
       "             min_child_weight=None, missing=nan, monotone_constraints=None,\n",
       "             n_estimators=100, n_jobs=None, num_parallel_tree=None,\n",
       "             predictor=None, random_state=None, ...)</pre><b>In a Jupyter environment, please rerun this cell to show the HTML representation or trust the notebook. <br />On GitHub, the HTML representation is unable to render, please try loading this page with nbviewer.org.</b></div><div class=\"sk-container\" hidden><div class=\"sk-item\"><div class=\"sk-estimator sk-toggleable\"><input class=\"sk-toggleable__control sk-hidden--visually\" id=\"sk-estimator-id-6\" type=\"checkbox\" checked><label for=\"sk-estimator-id-6\" class=\"sk-toggleable__label sk-toggleable__label-arrow\">XGBRegressor</label><div class=\"sk-toggleable__content\"><pre>XGBRegressor(base_score=None, booster=None, callbacks=None,\n",
       "             colsample_bylevel=None, colsample_bynode=None,\n",
       "             colsample_bytree=None, early_stopping_rounds=None,\n",
       "             enable_categorical=False, eval_metric=None, feature_types=None,\n",
       "             gamma=None, gpu_id=None, grow_policy=None, importance_type=None,\n",
       "             interaction_constraints=None, learning_rate=None, max_bin=None,\n",
       "             max_cat_threshold=None, max_cat_to_onehot=None,\n",
       "             max_delta_step=None, max_depth=None, max_leaves=None,\n",
       "             min_child_weight=None, missing=nan, monotone_constraints=None,\n",
       "             n_estimators=100, n_jobs=None, num_parallel_tree=None,\n",
       "             predictor=None, random_state=None, ...)</pre></div></div></div></div></div>"
      ],
      "text/plain": [
       "XGBRegressor(base_score=None, booster=None, callbacks=None,\n",
       "             colsample_bylevel=None, colsample_bynode=None,\n",
       "             colsample_bytree=None, early_stopping_rounds=None,\n",
       "             enable_categorical=False, eval_metric=None, feature_types=None,\n",
       "             gamma=None, gpu_id=None, grow_policy=None, importance_type=None,\n",
       "             interaction_constraints=None, learning_rate=None, max_bin=None,\n",
       "             max_cat_threshold=None, max_cat_to_onehot=None,\n",
       "             max_delta_step=None, max_depth=None, max_leaves=None,\n",
       "             min_child_weight=None, missing=nan, monotone_constraints=None,\n",
       "             n_estimators=100, n_jobs=None, num_parallel_tree=None,\n",
       "             predictor=None, random_state=None, ...)"
      ]
     },
     "execution_count": 107,
     "metadata": {},
     "output_type": "execute_result"
    }
   ],
   "source": [
    "# Fitting the model\n",
    "model.fit(train_X, train_y, eval_metric='logloss', eval_set=evalset)"
   ]
  },
  {
   "cell_type": "code",
   "execution_count": 108,
   "metadata": {},
   "outputs": [],
   "source": [
    "# Predict the model\n",
    "yhat = model.predict(test_X)"
   ]
  },
  {
   "cell_type": "code",
   "execution_count": 109,
   "metadata": {},
   "outputs": [],
   "source": [
    "# RMSE Computation\n",
    "rmse = np.sqrt(MSE(test_y, yhat))"
   ]
  },
  {
   "cell_type": "code",
   "execution_count": 110,
   "metadata": {},
   "outputs": [
    {
     "name": "stdout",
     "output_type": "stream",
     "text": [
      "RMSE :  14.964465\n"
     ]
    }
   ],
   "source": [
    "\n",
    "print(\"RMSE : % f\" %(rmse))"
   ]
  },
  {
   "cell_type": "code",
   "execution_count": 111,
   "metadata": {},
   "outputs": [],
   "source": [
    "results = model.evals_result()"
   ]
  },
  {
   "cell_type": "code",
   "execution_count": 112,
   "metadata": {},
   "outputs": [
    {
     "data": {
      "image/png": "[encoded data removed]",
      "text/plain": [
       "<Figure size 640x480 with 1 Axes>"
      ]
     },
     "metadata": {},
     "output_type": "display_data"
    }
   ],
   "source": [
    "pyplot.plot(results['validation_0']['logloss'], label='train')\n",
    "pyplot.plot(results['validation_1']['logloss'], label='test')\n",
    "# show the legend\n",
    "pyplot.legend()\n",
    "# show the plot\n",
    "pyplot.show()"
   ]
  },
  {
   "cell_type": "code",
   "execution_count": 113,
   "metadata": {},
   "outputs": [],
   "source": [
    "# todo:\n",
    "# graph loss\n",
    "# setup a prediction view method\n",
    "# predict future\n",
    "# make test set the last year instead of 5000\n",
    "# run daily"
   ]
  }
 ],
 "metadata": {
  "kernelspec": {
   "display_name": "Python 3",
   "language": "python",
   "name": "python3"
  },
  "language_info": {
   "codemirror_mode": {
    "name": "ipython",
    "version": 3
   },
   "file_extension": ".py",
   "mimetype": "text/x-python",
   "name": "python",
   "nbconvert_exporter": "python",
   "pygments_lexer": "ipython3",
   "version": "3.11.1"
  },
  "orig_nbformat": 4,
  "vscode": {
   "interpreter": {
    "hash": "157c1bd804940b4af0c7b63b1bf77ea34cd8d508791bffbe0c01aec879e0f76f"
   }
  }
 },
 "nbformat": 4,
 "nbformat_minor": 2
}
